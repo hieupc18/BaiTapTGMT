{
 "cells": [
  {
   "cell_type": "code",
   "execution_count": null,
   "id": "014e1fc2-acea-40e1-8a78-9658ca37e4a4",
   "metadata": {},
   "outputs": [],
   "source": [
    "!python veco.py"
   ]
  },
  {
   "cell_type": "code",
   "execution_count": null,
   "id": "76ee78cd-bafa-44fd-8eff-2a07ee3c4ff4",
   "metadata": {},
   "outputs": [],
   "source": []
  }
 ],
 "metadata": {
  "kernelspec": {
   "display_name": "Python 3 (ipykernel)",
   "language": "python",
   "name": "python3"
  },
  "language_info": {
   "codemirror_mode": {
    "name": "ipython",
    "version": 3
   },
   "file_extension": ".py",
   "mimetype": "text/x-python",
   "name": "python",
   "nbconvert_exporter": "python",
   "pygments_lexer": "ipython3",
   "version": "3.12.4"
  }
 },
 "nbformat": 4,
 "nbformat_minor": 5
}
