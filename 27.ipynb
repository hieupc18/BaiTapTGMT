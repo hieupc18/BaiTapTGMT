{
 "cells": [
  {
   "cell_type": "code",
   "execution_count": 1,
   "id": "07ec3876-8402-4950-a30b-41b4eb705e78",
   "metadata": {},
   "outputs": [],
   "source": [
    "import cv2\n",
    "import numpy as np"
   ]
  },
  {
   "cell_type": "code",
   "execution_count": 2,
   "id": "b0e6c7fe-8a78-4339-842c-4e787b20cdaa",
   "metadata": {},
   "outputs": [],
   "source": [
    "# Tải ảnh đầu vào\n",
    "img = cv2.imread('./data/220.jpg')\n",
    "\n",
    "# Hiển thị ảnh gốc\n",
    "cv2.imshow('Ảnh gốc', img)\n",
    "cv2.waitKey(0)\n",
    "cv2.destroyAllWindows()"
   ]
  },
  {
   "cell_type": "code",
   "execution_count": null,
   "id": "40e5529f-a0d5-46f7-b717-5ba16a28f75c",
   "metadata": {},
   "outputs": [
    {
     "name": "stdout",
     "output_type": "stream",
     "text": [
      "(1, 1, 200, 7)\n",
      "[0.         1.         0.9999552  0.36319962 0.41078857 0.62781835\n",
      " 0.86838496]\n",
      "[0.36319962 0.41078857 0.62781835 0.86838496]\n",
      "232 197 401 416\n"
     ]
    }
   ],
   "source": [
    "# Tải mô hình đã được huấn luyện từ trước\n",
    "net = cv2.dnn.readNetFromCaffe(\n",
    "    './models/deploy.prototxt.txt',\n",
    "    './models/res10_300x300_ssd_iter_140000_fp16.caffemodel'\n",
    ")\n",
    "\n",
    "# Chuẩn bị dữ liệu đầu vào\n",
    "# img: Đây là ảnh đầu vào mà bạn muốn nhận dạng khuôn mặt. Trong trường hợp của bạn, bạn đã đọc ảnh từ tệp \"face.png\".\n",
    "# 1.0: Đây là tỷ lệ co giãn cho ảnh. Trong trường hợp này, ảnh sẽ không bị co giãn hoặc mở rộng, và giữ nguyên kích thước ban đầu.\n",
    "# (300, 300): Đây là kích thước mà mô hình yêu cầu cho ảnh đầu vào. Mô hình mà bạn đang sử dụng mong muốn ảnh có kích thước 300x300 pixel. Do đó, bạn co giãn hoặc cắt ảnh đầu vào thành kích thước này.\n",
    "# (104, 177, 123): Đây là giá trị trung bình màu sắc được trừ đi từ mỗi pixel của ảnh. Điều này thường được sử dụng để chuẩn hóa dữ liệu đầu vào. Trong trường hợp này, các giá trị này thường được lấy từ dữ liệu huấn luyện của mô hình.\n",
    "# swapRB=False: Đây là một cờ để xác định xem có cần hoán đổi các kênh màu đỏ và xanh (Red-Blue) trong ảnh hay không. Trong trường hợp này, bạn đã đặt nó thành False, tức là không hoán đổi kênh mà\n",
    "blob = cv2.dnn.blobFromImage(img, 1.0, (300, 300), (104, 177, 123), swapRB=False)\n",
    "\n",
    "# Đặt dữ liệu đầu vào cho mạng\n",
    "net.setInput(blob)\n",
    "\n",
    "# Chạy mạng để phát hiện khuôn mặt\n",
    "faces = net.forward()\n",
    "\n",
    "# Lấy kích thước của ảnh đầu vào\n",
    "h = img.shape[0]\n",
    "w = img.shape[1]\n",
    "\n",
    "# In thông tin\n",
    "print(faces.shape)\n",
    "print(faces[0, 0, 0, ])\n",
    "\n",
    "# Duyệt từng khuôn mặt đã được phát hiện\n",
    "for i in range(0, faces.shape[2]):\n",
    "    confidence = faces[0,0,i,2]\n",
    "    # Kiểm tra nếu mặt có độ tin cậy là 0.5\n",
    "    if confidence>0.5:\n",
    "        # Trích xuất tọa độ\n",
    "        print(faces[0, 0, i, 3:7])\n",
    "        startx = int(faces[0, 0, i, 3]*w)\n",
    "        starty = int(faces[0, 0, i, 4]*h)\n",
    "        endx = int(faces[0, 0, i, 5]*w)\n",
    "        endy = int(faces[0, 0, i, 6]*h)\n",
    "        print(startx, starty, endx, endy)\n",
    "        \n",
    "        # Vẽ hình chữ nhật xung quanh khuôn mặt đã phát hiện\n",
    "        cv2.rectangle(img, (startx, starty), (endx, endy), (0, 255, 0),)\n",
    "        \n",
    "        # Hiển thị độ tin cậy\n",
    "        text = 'Face: {:.2f}%'.format(confidence*100);\n",
    "        cv2.putText(img, text, (startx, starty-10), cv2.FONT_HERSHEY_PLAIN, 1, (255,255,255),)\n",
    "\n",
    "# Hiển thị ảnh gốc\n",
    "cv2.imshow('Kết quả', img)\n",
    "cv2.waitKey(0)\n",
    "cv2.destroyAllWindows()"
   ]
  },
  {
   "cell_type": "code",
   "execution_count": null,
   "id": "ed2604e2-53ea-4dcb-a972-a0bc31cc076e",
   "metadata": {},
   "outputs": [],
   "source": []
  }
 ],
 "metadata": {
  "kernelspec": {
   "display_name": "Python 3 (ipykernel)",
   "language": "python",
   "name": "python3"
  },
  "language_info": {
   "codemirror_mode": {
    "name": "ipython",
    "version": 3
   },
   "file_extension": ".py",
   "mimetype": "text/x-python",
   "name": "python",
   "nbconvert_exporter": "python",
   "pygments_lexer": "ipython3",
   "version": "3.12.4"
  }
 },
 "nbformat": 4,
 "nbformat_minor": 5
}
