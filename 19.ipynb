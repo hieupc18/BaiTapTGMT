{
 "cells": [
  {
   "cell_type": "code",
   "execution_count": 1,
   "id": "4cd13e01-f54a-4993-9a92-9dab60656fdb",
   "metadata": {},
   "outputs": [
    {
     "name": "stdout",
     "output_type": "stream",
     "text": [
      "Collecting opencv-python\n",
      "  Downloading opencv_python-4.10.0.84-cp37-abi3-win_amd64.whl.metadata (20 kB)\n",
      "Requirement already satisfied: numpy>=1.21.2 in c:\\programdata\\anaconda3\\lib\\site-packages (from opencv-python) (1.26.4)\n",
      "Downloading opencv_python-4.10.0.84-cp37-abi3-win_amd64.whl (38.8 MB)\n",
      "   ---------------------------------------- 0.0/38.8 MB ? eta -:--:--\n",
      "   ---------------------------------------- 0.0/38.8 MB ? eta -:--:--\n",
      "   ---------------------------------------- 0.0/38.8 MB 487.6 kB/s eta 0:01:20\n",
      "   ---------------------------------------- 0.1/38.8 MB 1.0 MB/s eta 0:00:38\n",
      "   ---------------------------------------- 0.3/38.8 MB 1.6 MB/s eta 0:00:24\n",
      "   ---------------------------------------- 0.5/38.8 MB 2.3 MB/s eta 0:00:17\n",
      "    --------------------------------------- 0.7/38.8 MB 2.6 MB/s eta 0:00:15\n",
      "    --------------------------------------- 0.8/38.8 MB 2.9 MB/s eta 0:00:14\n",
      "   - -------------------------------------- 1.3/38.8 MB 3.8 MB/s eta 0:00:10\n",
      "   -- ------------------------------------- 2.2/38.8 MB 5.5 MB/s eta 0:00:07\n",
      "   --- ------------------------------------ 3.3/38.8 MB 7.5 MB/s eta 0:00:05\n",
      "   ------ --------------------------------- 6.0/38.8 MB 12.3 MB/s eta 0:00:03\n",
      "   ------ --------------------------------- 6.7/38.8 MB 13.4 MB/s eta 0:00:03\n",
      "   ------- -------------------------------- 7.2/38.8 MB 12.8 MB/s eta 0:00:03\n",
      "   ---------- ----------------------------- 10.6/38.8 MB 23.4 MB/s eta 0:00:02\n",
      "   ---------- ----------------------------- 10.6/38.8 MB 23.4 MB/s eta 0:00:02\n",
      "   ------------ --------------------------- 12.2/38.8 MB 32.7 MB/s eta 0:00:01\n",
      "   ---------------- ----------------------- 15.8/38.8 MB 34.4 MB/s eta 0:00:01\n",
      "   ---------------------- ----------------- 22.3/38.8 MB 93.9 MB/s eta 0:00:01\n",
      "   ----------------------- ---------------- 22.5/38.8 MB 81.8 MB/s eta 0:00:01\n",
      "   -------------------------- ------------- 25.9/38.8 MB 81.8 MB/s eta 0:00:01\n",
      "   ----------------------------- ---------- 28.5/38.8 MB 65.2 MB/s eta 0:00:01\n",
      "   ------------------------------- -------- 31.0/38.8 MB 50.4 MB/s eta 0:00:01\n",
      "   ---------------------------------- ----- 33.4/38.8 MB 54.7 MB/s eta 0:00:01\n",
      "   ------------------------------------- -- 36.0/38.8 MB 50.4 MB/s eta 0:00:01\n",
      "   ---------------------------------------  38.5/38.8 MB 50.4 MB/s eta 0:00:01\n",
      "   ---------------------------------------  38.8/38.8 MB 54.4 MB/s eta 0:00:01\n",
      "   ---------------------------------------  38.8/38.8 MB 54.4 MB/s eta 0:00:01\n",
      "   ---------------------------------------- 38.8/38.8 MB 32.7 MB/s eta 0:00:00\n",
      "Installing collected packages: opencv-python\n",
      "Successfully installed opencv-python-4.10.0.84\n"
     ]
    }
   ],
   "source": [
    "#!pip install opencv-python"
   ]
  },
  {
   "cell_type": "code",
   "execution_count": 93,
   "id": "a487996b-863d-4733-9a9b-4758988daf38",
   "metadata": {},
   "outputs": [],
   "source": [
    "def display(title, img):\n",
    "    cv2.imshow(title, img)\n",
    "    # Chờ một khoảng thời gian\n",
    "    cv2.waitKey(0)\n",
    "    # Đóng window\n",
    "    cv2.destroyWindow(title)"
   ]
  },
  {
   "cell_type": "code",
   "execution_count": null,
   "id": "ef132b5f-efdc-4ed8-b6e2-0574866c6ac1",
   "metadata": {},
   "outputs": [],
   "source": [
    "# Import thư viện\n",
    "import cv2"
   ]
  },
  {
   "cell_type": "code",
   "execution_count": 77,
   "id": "753fe093-86f8-4a8d-9b9a-e5b584d8f80e",
   "metadata": {},
   "outputs": [],
   "source": [
    "path = 'C:/Users/Administrator/Documents/Hieu2024/ThiGiacMayTinh/BaiTapTGMT/img/hoahong.jpg'"
   ]
  },
  {
   "cell_type": "code",
   "execution_count": 79,
   "id": "b7873980-aa76-49db-b45d-9633275f0eeb",
   "metadata": {},
   "outputs": [
    {
     "name": "stdout",
     "output_type": "stream",
     "text": [
      "[[[158 196 250]\n",
      "  [158 196 250]\n",
      "  [158 196 250]\n",
      "  ...\n",
      "  [167 200 249]\n",
      "  [167 200 249]\n",
      "  [167 200 249]]\n",
      "\n",
      " [[158 196 250]\n",
      "  [158 196 250]\n",
      "  [158 196 250]\n",
      "  ...\n",
      "  [167 200 249]\n",
      "  [167 200 249]\n",
      "  [167 200 249]]\n",
      "\n",
      " [[158 196 250]\n",
      "  [158 196 250]\n",
      "  [158 196 250]\n",
      "  ...\n",
      "  [167 200 249]\n",
      "  [167 200 249]\n",
      "  [167 200 249]]\n",
      "\n",
      " ...\n",
      "\n",
      " [[ 28  27  31]\n",
      "  [ 28  27  31]\n",
      "  [ 28  27  31]\n",
      "  ...\n",
      "  [ 33  48  44]\n",
      "  [ 33  48  44]\n",
      "  [ 33  48  44]]\n",
      "\n",
      " [[ 28  27  31]\n",
      "  [ 28  27  31]\n",
      "  [ 28  27  31]\n",
      "  ...\n",
      "  [ 33  48  44]\n",
      "  [ 33  48  44]\n",
      "  [ 33  48  44]]\n",
      "\n",
      " [[ 28  27  31]\n",
      "  [ 28  27  31]\n",
      "  [ 28  27  31]\n",
      "  ...\n",
      "  [ 33  48  44]\n",
      "  [ 33  48  44]\n",
      "  [ 33  48  44]]]\n"
     ]
    }
   ],
   "source": [
    "# Đọc một ảnh (nhan TAB de nhin autocomplete)\n",
    "img = cv2.imread(path)\n",
    "# In thông tin của ảnh\n",
    "print(img)"
   ]
  },
  {
   "cell_type": "code",
   "execution_count": 95,
   "id": "1df9ccb2-2fce-462a-af21-491ccfc7cde9",
   "metadata": {},
   "outputs": [
    {
     "name": "stdout",
     "output_type": "stream",
     "text": [
      "(715, 550, 3)\n",
      "715\n",
      "550\n",
      "3\n"
     ]
    }
   ],
   "source": [
    "# Lấy kích thước\n",
    "print(img.shape)\n",
    "x, y, z = img.shape\n",
    "print(x)\n",
    "print(y)\n",
    "print(z)"
   ]
  },
  {
   "cell_type": "code",
   "execution_count": 97,
   "id": "891d2037-1ddb-4e7b-82f3-2dd1b281b16a",
   "metadata": {},
   "outputs": [],
   "source": [
    "# Hiển thị ảnh\n",
    "cv2.imshow('Window', img)\n",
    "# Chờ một khoảng thời gian\n",
    "cv2.waitKey(10000)\n",
    "# Đóng window\n",
    "cv2.destroyWindow('Window')"
   ]
  },
  {
   "cell_type": "code",
   "execution_count": 99,
   "id": "44e77bd5-899b-4b3b-866a-5e4bc4e56aba",
   "metadata": {},
   "outputs": [],
   "source": [
    "# Tách màu\n",
    "b, g, r = cv2.split(img)\n",
    "cv2.imshow('Window', img)\n",
    "cv2.imshow('Red', r)\n",
    "cv2.imshow('Green', g)\n",
    "cv2.imshow('Blue', b)\n",
    "\n",
    "# Chờ một khoảng thời gian\n",
    "cv2.waitKey(0)\n",
    "# Đóng window\n",
    "cv2.destroyAllWindows()"
   ]
  },
  {
   "cell_type": "code",
   "execution_count": 103,
   "id": "46a1a49f-d056-4595-9744-48e3779f4f85",
   "metadata": {
    "scrolled": true
   },
   "outputs": [
    {
     "ename": "error",
     "evalue": "OpenCV(4.10.0) D:\\a\\opencv-python\\opencv-python\\opencv\\modules\\highgui\\src\\window_w32.cpp:1261: error: (-27:Null pointer) NULL window: 'Window' in function 'cvDestroyWindow'\n",
     "output_type": "error",
     "traceback": [
      "\u001b[1;31m---------------------------------------------------------------------------\u001b[0m",
      "\u001b[1;31merror\u001b[0m                                     Traceback (most recent call last)",
      "Cell \u001b[1;32mIn[103], line 18\u001b[0m\n\u001b[0;32m     16\u001b[0m         img2[y, x] \u001b[38;5;241m=\u001b[39m green_color\n\u001b[0;32m     17\u001b[0m \u001b[38;5;66;03m# Hiển thị\u001b[39;00m\n\u001b[1;32m---> 18\u001b[0m display(\u001b[38;5;124m'\u001b[39m\u001b[38;5;124mWindow\u001b[39m\u001b[38;5;124m'\u001b[39m, img)\n\u001b[0;32m     19\u001b[0m display(\u001b[38;5;124m'\u001b[39m\u001b[38;5;124mWindow_2\u001b[39m\u001b[38;5;124m'\u001b[39m, img2)\n",
      "Cell \u001b[1;32mIn[93], line 6\u001b[0m, in \u001b[0;36mdisplay\u001b[1;34m(title, img)\u001b[0m\n\u001b[0;32m      4\u001b[0m cv2\u001b[38;5;241m.\u001b[39mwaitKey(\u001b[38;5;241m0\u001b[39m)\n\u001b[0;32m      5\u001b[0m \u001b[38;5;66;03m# Đóng window\u001b[39;00m\n\u001b[1;32m----> 6\u001b[0m cv2\u001b[38;5;241m.\u001b[39mdestroyWindow(title)\n",
      "\u001b[1;31merror\u001b[0m: OpenCV(4.10.0) D:\\a\\opencv-python\\opencv-python\\opencv\\modules\\highgui\\src\\window_w32.cpp:1261: error: (-27:Null pointer) NULL window: 'Window' in function 'cvDestroyWindow'\n"
     ]
    }
   ],
   "source": [
    "# Thay đổi thông số của điểm ảnh\n",
    "height, width, z = img.shape\n",
    "quater_h = height/2\n",
    "quater_w = width/2\n",
    "\n",
    "# geen color\n",
    "green_color = (0,255,0)\n",
    "\n",
    "# copy ảnh\n",
    "img2 = img.copy()\n",
    "\n",
    "# thay đổi màu của góc 1/4 bên trái trên\n",
    "\n",
    "for y in range(int(quater_h)):\n",
    "    for x in range(int(quater_w)):\n",
    "        img2[y, x] = green_color\n",
    "# Hiển thị\n",
    "display('Window', img)\n",
    "display('Window_2', img2)"
   ]
  },
  {
   "cell_type": "code",
   "execution_count": null,
   "id": "29bff642-a74f-4681-a11f-896bf895c4a1",
   "metadata": {},
   "outputs": [],
   "source": []
  },
  {
   "cell_type": "code",
   "execution_count": null,
   "id": "24855e83-31ae-4164-a696-37f01332f778",
   "metadata": {},
   "outputs": [],
   "source": []
  },
  {
   "cell_type": "code",
   "execution_count": null,
   "id": "518d7c16-3293-4b7d-8b46-7b1ab5a61870",
   "metadata": {},
   "outputs": [],
   "source": []
  },
  {
   "cell_type": "code",
   "execution_count": null,
   "id": "4cacf920-9f71-4024-9738-e196832ae035",
   "metadata": {},
   "outputs": [],
   "source": []
  },
  {
   "cell_type": "code",
   "execution_count": null,
   "id": "77b00097-c4fe-441a-87ad-3617b6969416",
   "metadata": {},
   "outputs": [],
   "source": []
  }
 ],
 "metadata": {
  "kernelspec": {
   "display_name": "Python 3 (ipykernel)",
   "language": "python",
   "name": "python3"
  },
  "language_info": {
   "codemirror_mode": {
    "name": "ipython",
    "version": 3
   },
   "file_extension": ".py",
   "mimetype": "text/x-python",
   "name": "python",
   "nbconvert_exporter": "python",
   "pygments_lexer": "ipython3",
   "version": "3.12.4"
  }
 },
 "nbformat": 4,
 "nbformat_minor": 5
}
