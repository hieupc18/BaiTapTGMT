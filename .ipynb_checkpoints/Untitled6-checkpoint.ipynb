{
 "cells": [
  {
   "cell_type": "code",
   "execution_count": 1,
   "id": "16e3ea79-b3d4-44ce-80cc-40b95cce7975",
   "metadata": {},
   "outputs": [],
   "source": [
    "# Import lớp Image\n",
    "from PIL import Image\n",
    "from imagetools import *\n",
    "from IPython.display import display # to display images"
   ]
  },
  {
   "cell_type": "code",
   "execution_count": 2,
   "id": "f77acb04-5e3d-4b0a-9306-3352fa0d564c",
   "metadata": {},
   "outputs": [],
   "source": [
    "# Thư mục chứa hình ảnh\n",
    "dir = 'C://Users/Administrator/Documents/Hieu2024/ThiGiacMayTinh/BaiTapTGMT/img'"
   ]
  },
  {
   "cell_type": "code",
   "execution_count": 3,
   "id": "a74bebab-c942-499a-b765-c4050e513c58",
   "metadata": {},
   "outputs": [],
   "source": [
    "#Đọc nhiều ảnh\n",
    "imgs = get_image_list(dir)"
   ]
  },
  {
   "cell_type": "code",
   "execution_count": null,
   "id": "19e13720-8d3f-48b5-881c-10c66f57dc7c",
   "metadata": {},
   "outputs": [],
   "source": []
  }
 ],
 "metadata": {
  "kernelspec": {
   "display_name": "Python 3 (ipykernel)",
   "language": "python",
   "name": "python3"
  },
  "language_info": {
   "codemirror_mode": {
    "name": "ipython",
    "version": 3
   },
   "file_extension": ".py",
   "mimetype": "text/x-python",
   "name": "python",
   "nbconvert_exporter": "python",
   "pygments_lexer": "ipython3",
   "version": "3.12.4"
  }
 },
 "nbformat": 4,
 "nbformat_minor": 5
}
